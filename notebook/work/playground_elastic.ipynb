{
 "cells": [
  {
   "cell_type": "markdown",
   "metadata": {},
   "source": [
    "# Redis Playground\n",
    "\n",
    "Iremos por encima de varias llamadas al API intentando hacer una copia de una red social.\n",
    "\n",
    "La libreria oficial de redis para python provee un API casi 1:1 con el cli de redis.\n",
    "\n",
    "## Setup First"
   ]
  },
  {
   "cell_type": "code",
   "execution_count": null,
   "metadata": {},
   "outputs": [],
   "source": [
    "from redis import StrictRedis\n",
    "redis = StrictRedis(host='redis')"
   ]
  },
  {
   "cell_type": "markdown",
   "metadata": {},
   "source": [
    "## Primero un par de conceptos basicos"
   ]
  },
  {
   "cell_type": "code",
   "execution_count": null,
   "metadata": {},
   "outputs": [],
   "source": [
    "redis.set('clave', 'valor')\n",
    "redis.get('clave')"
   ]
  },
  {
   "cell_type": "code",
   "execution_count": null,
   "metadata": {},
   "outputs": [],
   "source": [
    "redis.set('clave', 2)"
   ]
  },
  {
   "cell_type": "code",
   "execution_count": null,
   "metadata": {},
   "outputs": [],
   "source": [
    "redis.get('clave')"
   ]
  },
  {
   "cell_type": "markdown",
   "metadata": {},
   "source": [
    "### Operaciones atomicas\n",
    "\n",
    "Redis garantiza atomicidad completa en sus operaciones."
   ]
  },
  {
   "cell_type": "code",
   "execution_count": null,
   "metadata": {},
   "outputs": [],
   "source": [
    "redis.set('visitas', 100)\n",
    "visitas = int(redis.get('visitas'))\n",
    "visitas += 1\n",
    "redis.set('visitas', visitas)\n",
    "redis.get('visitas')"
   ]
  },
  {
   "cell_type": "code",
   "execution_count": null,
   "metadata": {},
   "outputs": [],
   "source": [
    "#redis.set('visitas', 100)\n",
    "redis.incrby('visitas', int(redis.get('tasa_de_vuelta')*100)\n",
    "redis.get('visitas')"
   ]
  },
  {
   "cell_type": "markdown",
   "metadata": {},
   "source": [
    "### Listas"
   ]
  },
  {
   "cell_type": "code",
   "execution_count": null,
   "metadata": {},
   "outputs": [],
   "source": [
    "redis.lpush('lista', 'a')\n",
    "redis.lpush('lista', 'b')\n",
    "redis.lpush('lista', 'c')"
   ]
  },
  {
   "cell_type": "code",
   "execution_count": null,
   "metadata": {},
   "outputs": [],
   "source": [
    "redis.lrange('lista', 0, 1) # LRANGE lista 0 1"
   ]
  },
  {
   "cell_type": "code",
   "execution_count": null,
   "metadata": {},
   "outputs": [],
   "source": [
    "redis.lrange('lista', 0, -1) # LRANGE lista 0 -1"
   ]
  },
  {
   "cell_type": "code",
   "execution_count": null,
   "metadata": {},
   "outputs": [],
   "source": [
    "redis.rpush('lista', 'd')\n",
    "redis.lrange('lista', 0, -1)"
   ]
  },
  {
   "cell_type": "markdown",
   "metadata": {},
   "source": [
    "### Sets"
   ]
  },
  {
   "cell_type": "code",
   "execution_count": null,
   "metadata": {},
   "outputs": [],
   "source": [
    "redis.sadd('set', 'a')\n",
    "redis.sadd('set', 'b')\n",
    "redis.sadd('set', 1)\n",
    "redis.sadd('set', 2)\n",
    "redis.sadd('set', \"True\")"
   ]
  },
  {
   "cell_type": "code",
   "execution_count": null,
   "metadata": {},
   "outputs": [],
   "source": [
    "redis.scard('set')"
   ]
  },
  {
   "cell_type": "code",
   "execution_count": null,
   "metadata": {},
   "outputs": [],
   "source": [
    "redis.smembers('set')"
   ]
  },
  {
   "cell_type": "code",
   "execution_count": null,
   "metadata": {},
   "outputs": [],
   "source": [
    "redis.sadd('set', 1)"
   ]
  },
  {
   "cell_type": "code",
   "execution_count": null,
   "metadata": {},
   "outputs": [],
   "source": [
    "redis.smembers('set')"
   ]
  },
  {
   "cell_type": "code",
   "execution_count": null,
   "metadata": {},
   "outputs": [],
   "source": [
    "redis.sadd('set_nuevo', 1)\n",
    "redis.sadd('set_nuevo', 2)\n",
    "redis.sadd('set_nuevo', \"False\")"
   ]
  },
  {
   "cell_type": "code",
   "execution_count": null,
   "metadata": {},
   "outputs": [],
   "source": [
    "redis.sinter('set', 'set_nuevo')"
   ]
  },
  {
   "cell_type": "code",
   "execution_count": null,
   "metadata": {},
   "outputs": [],
   "source": [
    "redis.sismember('set', 56)"
   ]
  },
  {
   "cell_type": "markdown",
   "metadata": {},
   "source": [
    "### Sorted Sets"
   ]
  },
  {
   "cell_type": "code",
   "execution_count": null,
   "metadata": {},
   "outputs": [],
   "source": [
    "redis.zadd('set_ordenado', {'a': 0.0}) # ZADD set_ordenado 0 a\n",
    "redis.zadd('set_ordenado', {'b': 5.0})\n",
    "redis.zadd('set_ordenado', {'c': 10.0})"
   ]
  },
  {
   "cell_type": "code",
   "execution_count": null,
   "metadata": {},
   "outputs": [],
   "source": [
    "redis.zrange('set_ordenado', 0, -1)"
   ]
  },
  {
   "cell_type": "code",
   "execution_count": null,
   "metadata": {},
   "outputs": [],
   "source": [
    "redis.zrevrange('set_ordenado', 0, -1, withscores=True)"
   ]
  },
  {
   "cell_type": "code",
   "execution_count": null,
   "metadata": {},
   "outputs": [],
   "source": [
    "redis.zscore('set_ordenado', 'b')"
   ]
  },
  {
   "cell_type": "code",
   "execution_count": null,
   "metadata": {},
   "outputs": [],
   "source": [
    "redis.zscore('set_ordenado', 'd')"
   ]
  },
  {
   "cell_type": "markdown",
   "metadata": {},
   "source": [
    "### Hashes"
   ]
  },
  {
   "cell_type": "code",
   "execution_count": null,
   "metadata": {},
   "outputs": [],
   "source": [
    "redis.hmset('user_hash', {\"name\": \"Ricardo\", \"surname\": \"Vegas\", \"age\": 32})"
   ]
  },
  {
   "cell_type": "code",
   "execution_count": null,
   "metadata": {},
   "outputs": [],
   "source": [
    "redis.hmget('user_hash', [\"age\", \"surname\"])"
   ]
  },
  {
   "cell_type": "code",
   "execution_count": null,
   "metadata": {},
   "outputs": [],
   "source": [
    "redis.hget('user_hash', 'name')"
   ]
  },
  {
   "cell_type": "code",
   "execution_count": null,
   "metadata": {},
   "outputs": [],
   "source": [
    "redis.hdel('user_hash', 'age')"
   ]
  },
  {
   "cell_type": "code",
   "execution_count": null,
   "metadata": {},
   "outputs": [],
   "source": [
    "redis.hmget('user_hash', [\"age\", \"surname\"])"
   ]
  },
  {
   "cell_type": "code",
   "execution_count": null,
   "metadata": {},
   "outputs": [],
   "source": [
    "redis.hgetall('user_hash')"
   ]
  },
  {
   "cell_type": "code",
   "execution_count": null,
   "metadata": {},
   "outputs": [],
   "source": [
    "redis.delete('user_hash')"
   ]
  },
  {
   "cell_type": "code",
   "execution_count": null,
   "metadata": {},
   "outputs": [],
   "source": [
    "redis.hgetall('user_hash')"
   ]
  },
  {
   "cell_type": "markdown",
   "metadata": {},
   "source": [
    "## Una red social en REDIS??\n",
    "\n",
    "Con lo que sabemos, es posible montar gran parte de una red social, veamos:"
   ]
  },
  {
   "cell_type": "code",
   "execution_count": null,
   "metadata": {},
   "outputs": [],
   "source": [
    "# Una secuencia para los user_id\n",
    "redis.incr('next_user_id', 1000)"
   ]
  },
  {
   "cell_type": "code",
   "execution_count": null,
   "metadata": {},
   "outputs": [],
   "source": [
    "# Obtenemos un user id y registramos al usuario en una key propia (1 por usuario)\n",
    "user_id = redis.incr('next_user_id')\n",
    "redis.hmset('user' + str(user_id), {\"username\": \"rvegas\", \"password\": \"123password\"})"
   ]
  },
  {
   "cell_type": "code",
   "execution_count": null,
   "metadata": {},
   "outputs": [],
   "source": [
    "redis.hgetall('user' + str(user_id))"
   ]
  },
  {
   "cell_type": "code",
   "execution_count": null,
   "metadata": {},
   "outputs": [],
   "source": [
    "# Guardamos la relacion de cada usuario con su id, para construir la key propia de sus datos\n",
    "redis.hset('user_ids', \"rvegas\", int(user_id))"
   ]
  },
  {
   "cell_type": "code",
   "execution_count": null,
   "metadata": {},
   "outputs": [],
   "source": [
    "# en user_ids tendriamos los ids de todos los usuarios, no sus datos\n",
    "redis.hgetall('user_ids')"
   ]
  },
  {
   "cell_type": "code",
   "execution_count": null,
   "metadata": {},
   "outputs": [],
   "source": [
    "# Si en otra ejecucion quiero los datos de un usuario (LOGIN)\n",
    "current_user_id = int(redis.hget('user_ids', 'rvegas'))\n",
    "redis.hgetall('user' + str(current_user_id))"
   ]
  },
  {
   "cell_type": "code",
   "execution_count": null,
   "metadata": {},
   "outputs": [],
   "source": [
    "# Como guardo los followers? con sets ordenados!\n",
    "import time\n",
    "redis.zadd('followers' + str(current_user_id), {'mariav': time.time()})"
   ]
  },
  {
   "cell_type": "code",
   "execution_count": null,
   "metadata": {},
   "outputs": [],
   "source": [
    "redis.zadd('followers' + str(current_user_id), {'luisjc': time.time()})"
   ]
  },
  {
   "cell_type": "code",
   "execution_count": null,
   "metadata": {},
   "outputs": [],
   "source": [
    "followers_key = 'followers' + str(current_user_id)\n",
    "redis.zrange(followers_key, 0, -1, withscores=True)"
   ]
  },
  {
   "cell_type": "code",
   "execution_count": null,
   "metadata": {},
   "outputs": [],
   "source": [
    "# Como guardo los posts?? con listas!\n",
    "\n",
    "posts_sequence = redis.incr('post_ids', 1000)\n",
    "next_post_id = redis.incr('post_ids')\n",
    "new_post = {\"content\": \"I love Redis!\"}\n",
    "\n",
    "redis.hmset('posts' + str(next_post_id), new_post)\n",
    "\n",
    "user_posts_key = 'posts' + str(current_user_id)\n",
    "redis.lpush(user_posts_key, str(next_post_id))\n"
   ]
  },
  {
   "cell_type": "code",
   "execution_count": null,
   "metadata": {},
   "outputs": [],
   "source": [
    "user_posts = redis.lrange(user_posts_key, 0, -1)"
   ]
  },
  {
   "cell_type": "code",
   "execution_count": null,
   "metadata": {},
   "outputs": [],
   "source": [
    "redis.hgetall('posts' + str(int(user_posts[0])))"
   ]
  },
  {
   "cell_type": "markdown",
   "metadata": {},
   "source": [
    "## Finalmente, MUY IMPORTANTE! Expirations!!!\n",
    "\n",
    "Supongamos que queremos dar api keys a los usuarios cuando hacen login, pero queremos que las keys \n",
    "tengan validez de horas:"
   ]
  },
  {
   "cell_type": "code",
   "execution_count": null,
   "metadata": {},
   "outputs": [],
   "source": [
    "import uuid\n",
    "#user_keys:1001 (mi user es 1001, mi token esta en user_keys:1001, mis datos estan en user_data:1001)\n",
    "redis.setex('user_keys:' + str(current_user_id), 10, str(uuid.uuid4()))"
   ]
  },
  {
   "cell_type": "code",
   "execution_count": null,
   "metadata": {},
   "outputs": [],
   "source": [
    "redis.get('user_keys:' + str(current_user_id))"
   ]
  }
 ],
 "metadata": {
  "kernelspec": {
   "display_name": "Python 3",
   "language": "python",
   "name": "python3"
  },
  "language_info": {
   "codemirror_mode": {
    "name": "ipython",
    "version": 3
   },
   "file_extension": ".py",
   "mimetype": "text/x-python",
   "name": "python",
   "nbconvert_exporter": "python",
   "pygments_lexer": "ipython3",
   "version": "3.7.3"
  }
 },
 "nbformat": 4,
 "nbformat_minor": 2
}
